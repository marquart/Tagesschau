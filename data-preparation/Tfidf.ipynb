{
 "cells": [
  {
   "cell_type": "code",
   "execution_count": 1,
   "id": "31898207-5593-4766-a445-8f9a33e8c5de",
   "metadata": {},
   "outputs": [],
   "source": [
    "import os\n",
    "import json\n",
    "import numpy as np"
   ]
  },
  {
   "cell_type": "code",
   "execution_count": 2,
   "id": "58d33f54-209f-4a72-b18f-f24a72e62ff5",
   "metadata": {},
   "outputs": [],
   "source": [
    "from sklearn.feature_extraction.text import TfidfVectorizer"
   ]
  },
  {
   "cell_type": "markdown",
   "id": "ad287b8f-462e-4798-9897-7dd1e09d8ed4",
   "metadata": {},
   "source": [
    "# Find top TFIDF Words"
   ]
  },
  {
   "cell_type": "code",
   "execution_count": 3,
   "id": "3f3db8e0-b5bc-4432-abc5-49baa9e53aba",
   "metadata": {},
   "outputs": [],
   "source": [
    "files = []\n",
    "for file in os.listdir(\"./Months_Cleaned/\"):\n",
    "    if file.endswith(\".json\"):\n",
    "        files.append(file)"
   ]
  },
  {
   "cell_type": "code",
   "execution_count": 4,
   "id": "3301c8dd-a281-45ff-8950-98ead47af28d",
   "metadata": {},
   "outputs": [],
   "source": [
    "corpus = []\n",
    "files = sorted(sorted(files), key=lambda x: x[3:7])\n",
    "for file in files:\n",
    "    with open(f\"./Months_Cleaned/{file}\", 'r', encoding=\"utf-8\") as f:\n",
    "        tokens = [t.strip('.') for t in json.load(f)]\n",
    "        corpus.append(tokens)"
   ]
  },
  {
   "cell_type": "code",
   "execution_count": 5,
   "id": "23d61918-66ae-47e3-9aca-6119f22f3866",
   "metadata": {},
   "outputs": [],
   "source": [
    "def identity_tokenizer(text):\n",
    "    # bereits tokenized\n",
    "    return text\n",
    "\n",
    "transfomer = TfidfVectorizer(tokenizer=identity_tokenizer, lowercase=False)"
   ]
  },
  {
   "cell_type": "code",
   "execution_count": 6,
   "id": "640653fa-aa63-4d2a-b5ef-a58e5fdaaa0c",
   "metadata": {},
   "outputs": [],
   "source": [
    "tfidf = transfomer.fit_transform(corpus)"
   ]
  },
  {
   "cell_type": "code",
   "execution_count": 7,
   "id": "099d49cd-d747-4d7e-82ce-700c3d99b457",
   "metadata": {},
   "outputs": [
    {
     "data": {
      "text/plain": [
       "(84, 34863)"
      ]
     },
     "execution_count": 7,
     "metadata": {},
     "output_type": "execute_result"
    }
   ],
   "source": [
    "tfidf.shape"
   ]
  },
  {
   "cell_type": "code",
   "execution_count": 8,
   "id": "a1135bc2-bd24-4fa1-959d-8a98e692f3ce",
   "metadata": {},
   "outputs": [],
   "source": [
    "def get_highest_tfidf_terms():  \n",
    "    feature_names = np.array(transfomer.get_feature_names())\n",
    "    return feature_names[np.argmax(tfidf, axis=1)]\n",
    "\n",
    "def get_highest_n_tfidf_terms(n=5):\n",
    "    feature_array = np.array(transfomer.get_feature_names())\n",
    "    tfidf_sorting = np.flip(np.argsort(tfidf.toarray(), axis=1), axis=1)\n",
    "    top_n = [feature_array[x[:n]] for x in tfidf_sorting]\n",
    "    return top_n\n",
    "\n",
    "def filter_leere_begriffe(top_words):\n",
    "    leere_begriffe= (\"mensch\",\"deutsch\",\"deutschland\",\"land\",\"regierung\",\"neu\",\"woche\",\"präsident\",\"maßnahme\",\"anderer\")\n",
    "    result = []\n",
    "    for words in top_words:\n",
    "        words = [word for word in words if word not in leere_begriffe]\n",
    "        result.append(words[:15])\n",
    "    return result"
   ]
  },
  {
   "cell_type": "code",
   "execution_count": 9,
   "id": "df358d2e-1165-4bbe-83f7-305592c8a06e",
   "metadata": {},
   "outputs": [],
   "source": [
    "top_tfidf_words = filter_leere_begriffe(get_highest_n_tfidf_terms(n=25))"
   ]
  },
  {
   "cell_type": "markdown",
   "id": "6583b1cf-5604-45ef-a38b-7f14d2482b64",
   "metadata": {},
   "source": [
    "# Save as JSON"
   ]
  },
  {
   "cell_type": "code",
   "execution_count": 10,
   "id": "f2baf194-6fdf-4da0-a09d-e413bd92fb91",
   "metadata": {},
   "outputs": [],
   "source": [
    "from collections import defaultdict\n",
    "import datetime\n"
   ]
  },
  {
   "cell_type": "code",
   "execution_count": 11,
   "id": "9656734e-d67d-4a60-8da3-dc0171365dd1",
   "metadata": {},
   "outputs": [],
   "source": [
    "year_month_topwords = defaultdict(dict)\n",
    "\n",
    "i, month, year = 0, 6, 2014\n",
    "\n",
    "for topwords in top_tfidf_words:\n",
    "    if month > 12:\n",
    "        month = 1\n",
    "        year += 1\n",
    "    date = datetime.date(year, month, 1)\n",
    "    year_month_topwords[year][date.strftime(\"%b\")] = topwords\n",
    "    month += 1"
   ]
  },
  {
   "cell_type": "code",
   "execution_count": 12,
   "id": "b20f0ab5-28e0-4749-9641-994dcf56adc7",
   "metadata": {},
   "outputs": [],
   "source": [
    "with open(\"./year_month_topwords.json\", 'w') as f:\n",
    "    json.dump(year_month_topwords, f)"
   ]
  },
  {
   "cell_type": "code",
   "execution_count": null,
   "id": "5ab026fc-2683-4afe-a21c-9f45c51a28f3",
   "metadata": {},
   "outputs": [],
   "source": []
  }
 ],
 "metadata": {
  "kernelspec": {
   "display_name": "venv-TextViz",
   "language": "python",
   "name": "venv-textviz"
  },
  "language_info": {
   "codemirror_mode": {
    "name": "ipython",
    "version": 3
   },
   "file_extension": ".py",
   "mimetype": "text/x-python",
   "name": "python",
   "nbconvert_exporter": "python",
   "pygments_lexer": "ipython3",
   "version": "3.9.1"
  }
 },
 "nbformat": 4,
 "nbformat_minor": 5
}
