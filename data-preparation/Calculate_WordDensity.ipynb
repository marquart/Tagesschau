{
 "cells": [
  {
   "cell_type": "code",
   "execution_count": 1,
   "id": "132935ac-bd06-47eb-939f-13adaa68fa53",
   "metadata": {},
   "outputs": [],
   "source": [
    "from collections import defaultdict, Counter\n",
    "import numpy as np\n",
    "from json import load, dump\n",
    "import os"
   ]
  },
  {
   "cell_type": "markdown",
   "id": "f8e65e3c-6ac8-410b-a19e-84895297f5c3",
   "metadata": {},
   "source": [
    "## Lade Wörter und finde Wörter, die weniger als drei mal vorkommen sowie kleiner als drei Zeichen lang sind"
   ]
  },
  {
   "cell_type": "code",
   "execution_count": 3,
   "id": "8bdb0e0b-3ec1-41c2-aac8-6f1fd1a05cce",
   "metadata": {},
   "outputs": [],
   "source": [
    "words = Counter()\n",
    "words_in_month = Counter()\n",
    "i = 0\n",
    "files = []\n",
    "months = {}\n",
    "\n",
    "for file in os.listdir(\"./Months_Filtered/\"):\n",
    "    if file.endswith(\".json\"):\n",
    "        files.append(file)\n",
    "        with open(f\"./Months_Filtered/{file}\", 'r', encoding=\"utf-8\") as f:\n",
    "            tokens = [t.strip('.') for t in load(f)]\n",
    "            months[file] = tokens\n",
    "            words.update(tokens)\n",
    "            words_in_month.update(set(tokens))\n",
    "            i +=1\n",
    "            "
   ]
  },
  {
   "cell_type": "code",
   "execution_count": 4,
   "id": "079704f3-0fb6-4928-91b8-ed33a8d09015",
   "metadata": {},
   "outputs": [
    {
     "name": "stdout",
     "output_type": "stream",
     "text": [
      "Anzahl Tokens pro Monat: 17276.654761904763\n",
      "Anzahl unique Tokens pro Monat: 6281.535714285715\n",
      "Gesamt-Anzahl Token-Erwähnungen: 1451239\n",
      "Gesamt-Anzahl unique Tokens: 100364\n"
     ]
    }
   ],
   "source": [
    "print(f\"Anzahl Tokens pro Monat: {sum(words.values())/i}\")\n",
    "print(f\"Anzahl unique Tokens pro Monat: {sum(words_in_month.values())/i}\")\n",
    "print(f\"Gesamt-Anzahl Token-Erwähnungen: {sum(words.values())}\")\n",
    "print(f\"Gesamt-Anzahl unique Tokens: {len(words)}\")"
   ]
  },
  {
   "cell_type": "code",
   "execution_count": 5,
   "id": "9476d1d5-e043-4f99-b50a-d33625114bb3",
   "metadata": {},
   "outputs": [
    {
     "data": {
      "text/plain": [
       "206"
      ]
     },
     "execution_count": 5,
     "metadata": {},
     "output_type": "execute_result"
    }
   ],
   "source": [
    "small_words = {word:words[word] for word in words if len(word)<3}\n",
    "len(small_words)"
   ]
  },
  {
   "cell_type": "code",
   "execution_count": 6,
   "id": "67dcd91b-17bc-426d-a7c5-20f4728a2f1b",
   "metadata": {},
   "outputs": [],
   "source": [
    "valid_small_words = ('xi','un','eu','de','is','wm','em')"
   ]
  },
  {
   "cell_type": "code",
   "execution_count": 7,
   "id": "b1924396-8958-4b5d-8c8a-a2fb8917e312",
   "metadata": {},
   "outputs": [
    {
     "data": {
      "text/plain": [
       "65361"
      ]
     },
     "execution_count": 7,
     "metadata": {},
     "output_type": "execute_result"
    }
   ],
   "source": [
    "small_occurrences = {word:words[word] for word in words if words[word]<3}\n",
    "len(small_occurrences)"
   ]
  },
  {
   "cell_type": "markdown",
   "id": "59f146a4-f95c-44a6-a95f-83896254fb12",
   "metadata": {},
   "source": [
    "# Bereinigung des Corpus\n",
    "* tokens, die weniger Buchstaben haben als 3 und/oder weniger oft als dreimal vorkommen\n",
    "* speichern für die spätere Berechnung der Tf-idf"
   ]
  },
  {
   "cell_type": "code",
   "execution_count": 8,
   "id": "1e05b044-e8fd-4326-85c7-8a58fa1eace7",
   "metadata": {},
   "outputs": [],
   "source": [
    "def filter_corpus(l):\n",
    "    return [w for w in l if w not in small_occurrences and not (w in small_words and w not in valid_small_words)]"
   ]
  },
  {
   "cell_type": "code",
   "execution_count": 9,
   "id": "d6e22933-a403-4bb8-8e73-089477f928c3",
   "metadata": {},
   "outputs": [],
   "source": [
    "files = sorted(sorted(files), key=lambda x: x[3:7])\n",
    "corpus = []\n",
    "sums = []\n",
    "for file in files:\n",
    "    '''\n",
    "    with open(f\"./Months_Filtered/{file}\", 'r', encoding=\"utf-8\") as f:\n",
    "        month = Counter(filter_corpus(load(f)))\n",
    "        corpus.append(month)\n",
    "        sums.append(sum(month.values()))\n",
    "    '''\n",
    "    month_corpus = filter_corpus(months[file])\n",
    "    # save\n",
    "    with open(f\"./Months_Cleaned/{file}\", 'w', encoding=\"utf-8\") as f:\n",
    "        dump(month_corpus, f)\n",
    "    month = Counter(month_corpus)\n",
    "    corpus.append(month)\n",
    "    sums.append(sum(month.values()))"
   ]
  },
  {
   "cell_type": "code",
   "execution_count": 10,
   "id": "d489e275-f176-4b2e-91af-872d50a54f30",
   "metadata": {},
   "outputs": [
    {
     "data": {
      "text/plain": [
       "(84, 84)"
      ]
     },
     "execution_count": 10,
     "metadata": {},
     "output_type": "execute_result"
    }
   ],
   "source": [
    "len(corpus), len(sums)"
   ]
  },
  {
   "cell_type": "code",
   "execution_count": 16,
   "id": "d85b5d1a-7885-426c-ab1d-fbc8f819b9b9",
   "metadata": {},
   "outputs": [
    {
     "data": {
      "text/plain": [
       "16269.404761904761"
      ]
     },
     "execution_count": 16,
     "metadata": {},
     "output_type": "execute_result"
    }
   ],
   "source": [
    "np.mean([sum(x.values()) for x in corpus])"
   ]
  },
  {
   "cell_type": "code",
   "execution_count": 17,
   "id": "3ead7e7d-adf9-4c1e-b737-2e28bf44c7cf",
   "metadata": {},
   "outputs": [
    {
     "data": {
      "text/plain": [
       "5352.428571428572"
      ]
     },
     "execution_count": 17,
     "metadata": {},
     "output_type": "execute_result"
    }
   ],
   "source": [
    "np.mean([len(x) for x in corpus])"
   ]
  },
  {
   "cell_type": "markdown",
   "id": "606a10f7-17fa-4ba0-a71a-c184124bf539",
   "metadata": {},
   "source": [
    "## Baue Tabelle mit Wortdichten"
   ]
  },
  {
   "cell_type": "code",
   "execution_count": 11,
   "id": "a52ca9f3-9758-4da0-a00b-ae074155d5a1",
   "metadata": {},
   "outputs": [
    {
     "name": "stdout",
     "output_type": "stream",
     "text": [
      "0 words proccessed\n",
      "1000 words proccessed\n",
      "2000 words proccessed\n",
      "3000 words proccessed\n",
      "4000 words proccessed\n",
      "5000 words proccessed\n",
      "6000 words proccessed\n",
      "7000 words proccessed\n",
      "9000 words proccessed\n",
      "10000 words proccessed\n",
      "11000 words proccessed\n",
      "12000 words proccessed\n",
      "14000 words proccessed\n",
      "15000 words proccessed\n",
      "16000 words proccessed\n",
      "17000 words proccessed\n",
      "19000 words proccessed\n",
      "21000 words proccessed\n",
      "22000 words proccessed\n",
      "24000 words proccessed\n",
      "35000 words proccessed\n",
      "40000 words proccessed\n",
      "41000 words proccessed\n",
      "43000 words proccessed\n",
      "46000 words proccessed\n",
      "47000 words proccessed\n",
      "54000 words proccessed\n",
      "55000 words proccessed\n",
      "56000 words proccessed\n",
      "60000 words proccessed\n",
      "69000 words proccessed\n",
      "77000 words proccessed\n",
      "85000 words proccessed\n",
      "87000 words proccessed\n",
      "90000 words proccessed\n"
     ]
    }
   ],
   "source": [
    "matrix = defaultdict(list)\n",
    "for i, word in enumerate(words):\n",
    "    if word in small_occurrences: continue\n",
    "    if word in small_words and word not in valid_small_words: continue\n",
    "    for month,sum_  in zip(corpus,sums):\n",
    "        count = month[word]\n",
    "        if not count: matrix[word].append(0.0)\n",
    "        else: matrix[word].append(count/sum_*1000)\n",
    "    if not i%1000: print(f\"{i} words proccessed\")"
   ]
  },
  {
   "cell_type": "code",
   "execution_count": 12,
   "id": "3198e43f-e55d-4dd6-a864-e4edd23c6c79",
   "metadata": {},
   "outputs": [
    {
     "data": {
      "text/plain": [
       "34863"
      ]
     },
     "execution_count": 12,
     "metadata": {},
     "output_type": "execute_result"
    }
   ],
   "source": [
    "len(matrix)"
   ]
  },
  {
   "cell_type": "markdown",
   "id": "f47b7260-e290-46d7-a8ea-3212d3086e95",
   "metadata": {},
   "source": [
    "## Ordne Tabelle absteigend nach Wortdichten"
   ]
  },
  {
   "cell_type": "code",
   "execution_count": 13,
   "id": "778f1c08-4563-400f-a90b-bf3c00b042fb",
   "metadata": {},
   "outputs": [],
   "source": [
    "matrix = {k:matrix[k] for k in sorted(matrix, key=lambda x: sum(matrix[x]), reverse=True)}"
   ]
  },
  {
   "cell_type": "code",
   "execution_count": 14,
   "id": "6375cc06-f986-4c11-af80-253649a94b4e",
   "metadata": {},
   "outputs": [
    {
     "data": {
      "text/plain": [
       "{84}"
      ]
     },
     "execution_count": 14,
     "metadata": {},
     "output_type": "execute_result"
    }
   ],
   "source": [
    "set(len(v) for v in matrix.values())"
   ]
  },
  {
   "cell_type": "markdown",
   "id": "38099809-1852-4fe0-9f34-758c92614af1",
   "metadata": {},
   "source": [
    "## Speichere Tabelle als JSON für Website"
   ]
  },
  {
   "cell_type": "code",
   "execution_count": 17,
   "id": "ac4ccc7f-ad97-45dd-8cc0-b378f5adcd0b",
   "metadata": {},
   "outputs": [],
   "source": [
    "with open(\"./table.json\", 'w') as f:\n",
    "    dump(matrix, f)"
   ]
  },
  {
   "cell_type": "code",
   "execution_count": 15,
   "id": "9b445a82-71cc-4305-989b-8b76c83f587e",
   "metadata": {},
   "outputs": [
    {
     "data": {
      "text/plain": [
       "['mensch',\n",
       " 'land',\n",
       " 'deutsch',\n",
       " 'deutschland',\n",
       " 'neu',\n",
       " 'regierung',\n",
       " 'präsident',\n",
       " 'regen',\n",
       " 'flüchtling',\n",
       " 'trump',\n",
       " 'woche',\n",
       " 'wolke',\n",
       " 'usa',\n",
       " 'euro',\n",
       " 'eu',\n",
       " 'schauer',\n",
       " 'anderer',\n",
       " 'merkel',\n",
       " 'spd',\n",
       " 'süden',\n",
       " 'russland',\n",
       " 'norden',\n",
       " 'europa',\n",
       " 'nacht',\n",
       " 'berlin',\n",
       " 'sonne',\n",
       " 'partei',\n",
       " 'polizei',\n",
       " 'letzter',\n",
       " 'stark']"
      ]
     },
     "execution_count": 15,
     "metadata": {},
     "output_type": "execute_result"
    }
   ],
   "source": [
    "list(matrix.keys())[:30]"
   ]
  },
  {
   "cell_type": "code",
   "execution_count": 20,
   "id": "8ff07ba9-2e2f-4f86-8d5b-7066cb0b17a2",
   "metadata": {},
   "outputs": [
    {
     "name": "stdout",
     "output_type": "stream",
     "text": [
      "corona-krise\n",
      "flüchtlingskrise\n",
      "wirtschaftskrise\n",
      "schuldenkrise\n",
      "regierungskrise\n"
     ]
    }
   ],
   "source": [
    "krise = matrix['krise']\n",
    "for term, values in matrix.items():\n",
    "    if 'krise' in term:\n",
    "        for value,goal in zip(values,krise):\n",
    "            if value > goal:\n",
    "                print(term)\n",
    "                break"
   ]
  },
  {
   "cell_type": "markdown",
   "id": "12a2cd2f-3717-448a-8132-64ffb896bdce",
   "metadata": {},
   "source": [
    "## Visualisierung für die Präsentation"
   ]
  },
  {
   "cell_type": "code",
   "execution_count": 34,
   "id": "b56cc1ea-491c-4cf7-9c72-c7243e5e8647",
   "metadata": {},
   "outputs": [],
   "source": [
    "import datetime\n",
    "import matplotlib.pyplot as plt\n",
    "import seaborn as sns\n",
    "sns.set_style(\"whitegrid\")"
   ]
  },
  {
   "cell_type": "code",
   "execution_count": 35,
   "id": "36aa35b2-9274-4f87-8b93-3d9b04583e43",
   "metadata": {},
   "outputs": [],
   "source": [
    "fontsize = 26\n",
    "plt.rcParams[\"font.family\"] = 'PT Sans','Noto Sans', 'Noto Serif'\n",
    "plt.rcParams[\"xtick.labelsize\"] = fontsize*0.8\n",
    "plt.rcParams[\"ytick.labelsize\"] = fontsize\n",
    "plt.rcParams[\"legend.fontsize\"] = fontsize\n",
    "plt.rcParams[\"ytick.major.pad\"] = 10\n",
    "plt.rcParams[\"xtick.major.pad\"] = 10"
   ]
  },
  {
   "cell_type": "code",
   "execution_count": 17,
   "id": "84cf4bac-720b-40db-8d62-a244879ba4b9",
   "metadata": {},
   "outputs": [],
   "source": [
    "def get_dateStrings():\n",
    "    result = []\n",
    "    mon, year = 6,2014\n",
    "    for i in range(len(corpus)):\n",
    "        if mon>12:\n",
    "            mon=1\n",
    "            year+=1\n",
    "        result.append(datetime.date(year, mon, 1).strftime(\"%b\\n%Y\")) #\n",
    "        mon+=1\n",
    "    return result\n",
    "datestrings = get_dateStrings()"
   ]
  },
  {
   "cell_type": "code",
   "execution_count": 18,
   "id": "a5b4e01d-22a1-4309-9464-9e8742605943",
   "metadata": {},
   "outputs": [
    {
     "data": {
      "image/png": "[encoded data removed]",
      "text/plain": [
       "<Figure size 1152x576 with 1 Axes>"
      ]
     },
     "metadata": {},
     "output_type": "display_data"
    }
   ],
   "source": [
    "fig, ax = plt.subplots(figsize=(16,8))\n",
    "unique_words = [len(words) for words in corpus]\n",
    "sum_words = [s-uniques for s,uniques in zip(sums,unique_words)]\n",
    "ax.stackplot(datestrings, (unique_words, sum_words), colors=('#911eb4','#00ced1'), labels=('Anzahl einzigartiger Begriffe','Anzahl Mehrfachnennungen'))\n",
    "plt.xticks(ticks=[datestrings[i] for i in range(len(datestrings)) if not i%6],  color='white') # ,rotation=-45, ha='left'\n",
    "plt.yticks(color='white')\n",
    "ax.set_xlim(left=datestrings[0], right=datestrings[-1])\n",
    "\n",
    "ax.legend(ncol=2, bbox_to_anchor=(-0.028, 1.115), frameon=False, loc='upper left', labelcolor='white')\n",
    "\n",
    "#ax.bar(datestrings, unique_words, width=1)\n",
    "#ax.bar(datestrings, , bottom=unique_words, width=1)\n",
    "\n",
    "plt.savefig(\"Wörter_pro_Monat.png\",dpi=600, bbox_inches='tight', transparent=True)\n",
    "plt.show()"
   ]
  },
  {
   "cell_type": "markdown",
   "id": "325ee2b3-8689-4208-95b3-6fb3ecb3fa8d",
   "metadata": {},
   "source": [
    "## Gefundene Wörter pro Minute Sendungszeit"
   ]
  },
  {
   "cell_type": "code",
   "execution_count": 26,
   "id": "8f207fbf-385b-42f5-9ef7-f5e768ef6edb",
   "metadata": {},
   "outputs": [
    {
     "data": {
      "text/plain": [
       "37.835825027685495"
      ]
     },
     "execution_count": 26,
     "metadata": {},
     "output_type": "execute_result"
    }
   ],
   "source": [
    "sum(sums)/2408/15"
   ]
  },
  {
   "cell_type": "code",
   "execution_count": null,
   "id": "641bc6b8-b3d5-4095-a1c6-9b552f6d7576",
   "metadata": {},
   "outputs": [],
   "source": []
  }
 ],
 "metadata": {
  "kernelspec": {
   "display_name": "venv-TextViz",
   "language": "python",
   "name": "venv-textviz"
  },
  "language_info": {
   "codemirror_mode": {
    "name": "ipython",
    "version": 3
   },
   "file_extension": ".py",
   "mimetype": "text/x-python",
   "name": "python",
   "nbconvert_exporter": "python",
   "pygments_lexer": "ipython3",
   "version": "3.9.1"
  }
 },
 "nbformat": 4,
 "nbformat_minor": 5
}
